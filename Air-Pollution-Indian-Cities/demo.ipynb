{
 "cells": [
  {
   "cell_type": "code",
   "execution_count": null,
   "id": "f963c40d-98b9-4e76-aa0c-0f2b792fc0aa",
   "metadata": {
    "tags": []
   },
   "outputs": [],
   "source": [
    "# !pip install sentinelhub\n",
    "# !pip install geopandas\n",
    "# !pip3 install eo-learn\n",
    "# !pip install eo-learn[VISUALIZATION]\n",
    "# !pip install matplotlib\n",
    "# !pip install imageio"
   ]
  },
  {
   "cell_type": "code",
   "execution_count": 26,
   "id": "600f7d8d-3080-440c-a2dc-dd6ea95de8ae",
   "metadata": {
    "tags": []
   },
   "outputs": [],
   "source": [
    "from helper import *"
   ]
  },
  {
   "cell_type": "code",
   "execution_count": 27,
   "id": "e450c42b-17fb-4e8f-8d98-dcbde2d4ddc8",
   "metadata": {
    "tags": []
   },
   "outputs": [],
   "source": [
    "# This is script may only work with sentinelhub.__version__ >= '3.4.0'\n",
    "from sentinelhub import SentinelHubRequest, DataCollection, MimeType, CRS, BBox, SHConfig, Geometry, SentinelHubDownloadClient, generate_evalscript\n",
    "from eolearn.io import get_available_timestamps,SentinelHubInputTask,SentinelHubEvalscriptTask\n",
    "# from sentinelhub import CRS, BBox, DataCollection, SHConfig\n",
    "from eolearn.core import EOWorkflow, FeatureType, LoadTask, OutputTask, SaveTask, linearly_connect_tasks\n",
    "import datetime\n",
    "import matplotlib.pyplot as plt\n",
    "\n",
    "\n",
    "# # Credentials\n",
    "config1= SHConfig()\n",
    "config1.sh_client_id = 'sh_client_id'\n",
    "config1.sh_client_secret = 'sh_client_secret'\n",
    "config1.sh_base_url = 'https://sh.dataspace.copernicus.eu'\n",
    "config1.sh_token_url = 'https://identity.dataspace.copernicus.eu/auth/realms/CDSE/protocol/openid-connect/token'"
   ]
  },
  {
   "cell_type": "code",
   "execution_count": 28,
   "id": "3cbc177d-f91a-49b9-80c8-48994bbe148f",
   "metadata": {
    "tags": []
   },
   "outputs": [],
   "source": [
    "def generate_eopatch_for_band(city, band, bbox, timeinterval):\n",
    "    time_difference = datetime.timedelta(days=1)\n",
    "    maxcc = 0.8\n",
    "    \n",
    "    # gets the snapshots available dates\n",
    "    picked = get_available_timestamps(\n",
    "        bbox=bbox,\n",
    "        data_collection=DataCollection.SENTINEL5P.define_from(name=\"sentinel-5p-l2\",service_url=config1.sh_base_url),\n",
    "        time_interval=timeinterval,\n",
    "        time_difference=time_difference,\n",
    "        maxcc=maxcc,\n",
    "        config=config1\n",
    "    )\n",
    "    \n",
    "    # max and min snapshot dates\n",
    "    time_interval_series = (picked[0], picked[-1])\n",
    "    \n",
    "    # creating eval scripts to download particular band\n",
    "    evall = generate_evalscript(\n",
    "        data_collection=DataCollection.SENTINEL5P.define_from(name=\"sentinel-5p-l2\",service_url=config1.sh_base_url),\n",
    "        bands=[band]\n",
    "    )\n",
    "    \n",
    "    # creating the task to download data from SH\n",
    "    input_task = SentinelHubEvalscriptTask(\n",
    "        features=[(FeatureType.DATA, band)], \n",
    "        data_collection=DataCollection.SENTINEL5P.define_from(name=\"sentinel-5p-l2\",service_url=config1.sh_base_url),\n",
    "        evalscript=evall,\n",
    "        resolution=1000,\n",
    "        maxcc=maxcc,\n",
    "        time_difference=time_difference,\n",
    "        config=config1\n",
    "    )\n",
    "    \n",
    "    save = SaveTask(\"p5\")\n",
    "    output_task = OutputTask(\"eopatch\")\n",
    "    \n",
    "    workflow_nodes = linearly_connect_tasks(input_task, save, output_task)\n",
    "    workflow = EOWorkflow(workflow_nodes)\n",
    "    \n",
    "    result = workflow.execute(\n",
    "        {\n",
    "            workflow_nodes[0]: {\"bbox\": bbox, \"time_interval\": time_interval},\n",
    "            workflow_nodes[1]: {\"eopatch_folder\": city},\n",
    "        }\n",
    "    )\n",
    "    \n",
    "def multi_bands_eopatch(city, bands, bbox, timeinterval):\n",
    "    for band in bands: \n",
    "        generate_eopatch_for_band(city, band, bbox, timeinterval)"
   ]
  },
  {
   "cell_type": "code",
   "execution_count": 29,
   "id": "6d3a9ce9-2d2b-43b6-a1da-13787babfeee",
   "metadata": {
    "tags": []
   },
   "outputs": [],
   "source": [
    "components = [\"O3\", \"SO2\", \"NO2\", \"CO\", \"AER_AI_354_388\"]\n",
    "time_interval = (\"2024-10-28\", \"2024-11-03\")"
   ]
  },
  {
   "cell_type": "code",
   "execution_count": 34,
   "id": "311aa4cf-5e28-4862-a12e-e3144d6b31a7",
   "metadata": {
    "tags": []
   },
   "outputs": [],
   "source": [
    "chennai_outline = gpd.read_file(\"geojsons/hyderabad.geojson\")\n",
    "outline_bbox = get_bbox(chennai_outline)"
   ]
  },
  {
   "cell_type": "code",
   "execution_count": 36,
   "id": "fb09e132-3e16-45e4-8a4b-77afc9d518f9",
   "metadata": {
    "tags": []
   },
   "outputs": [],
   "source": [
    "multi_bands_eopatch(\"hyderabad\", components, outline_bbox, time_interval)"
   ]
  },
  {
   "cell_type": "code",
   "execution_count": 37,
   "id": "0b83786d-9a91-4624-92fb-73ea97a585bb",
   "metadata": {
    "tags": []
   },
   "outputs": [],
   "source": [
    "chennai_eopatch = EOPatch.load(\"p5/hyderabad\")"
   ]
  },
  {
   "cell_type": "code",
   "execution_count": 38,
   "id": "c1ae2812-64ce-4414-b7f8-6cea7074f19a",
   "metadata": {
    "tags": []
   },
   "outputs": [
    {
     "data": {
      "image/png": "[encoded data removed]",
      "text/plain": [
       "<Figure size 1000x500 with 5 Axes>"
      ]
     },
     "metadata": {},
     "output_type": "display_data"
    }
   ],
   "source": [
    "aqi_for_patch(chennai_eopatch)"
   ]
  },
  {
   "cell_type": "code",
   "execution_count": 39,
   "id": "824c678b-59f2-4568-be80-8ca0f6fdd11c",
   "metadata": {
    "tags": []
   },
   "outputs": [
    {
     "data": {
      "text/html": [
       "<style> table {width: 100% !important; } </style> <table> <tr> <td><div style=\"background-color: yellow; padding: 10px;\"><center>Ozone Concentration is Moderate</center></div><br/><div style=\"background-color: green; padding: 10px;\"><center>Sulfur dioxide Concentration is Good</center></div><br/><div style=\"background-color: green; padding: 10px;\"><center>Nitrogen dioxide Concentration is Good</center></div><br/><div style=\"background-color: green; padding: 10px;\"><center>Carbon monoxide Concentration is Good</center></div><br/><div style=\"background-color: yellow; padding: 10px;\"><center>Aerosol Concentration is Moderate</center></div><br/></td> <td style=\"background-color: yellow; padding: 10px;\"><center><h1>Overall Air Quality is Moderate</h1></center></div><br/>"
      ],
      "text/plain": [
       "<IPython.core.display.HTML object>"
      ]
     },
     "metadata": {},
     "output_type": "display_data"
    }
   ],
   "source": [
    "aqi_for_patch_for_date(chennai_eopatch,0)"
   ]
  },
  {
   "cell_type": "code",
   "execution_count": null,
   "id": "7e0d6b87-b9b6-4ca8-96f5-1dc3ddad166a",
   "metadata": {},
   "outputs": [],
   "source": []
  },
  {
   "cell_type": "code",
   "execution_count": null,
   "id": "b68aec3b-767f-4752-b2a8-a2df5dfa7844",
   "metadata": {},
   "outputs": [],
   "source": []
  }
 ],
 "metadata": {
  "kernelspec": {
   "display_name": "Python 3 (ipykernel)",
   "language": "python",
   "name": "python3"
  },
  "language_info": {
   "codemirror_mode": {
    "name": "ipython",
    "version": 3
   },
   "file_extension": ".py",
   "mimetype": "text/x-python",
   "name": "python",
   "nbconvert_exporter": "python",
   "pygments_lexer": "ipython3",
   "version": "3.8.18"
  }
 },
 "nbformat": 4,
 "nbformat_minor": 5
}
